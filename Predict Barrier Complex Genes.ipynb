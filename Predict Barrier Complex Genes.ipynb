{
 "cells": [
  {
   "cell_type": "code",
   "execution_count": 1,
   "metadata": {
    "collapsed": false
   },
   "outputs": [],
   "source": [
    "import os, sys, csv, gzip\n",
    "import numpy as np\n",
    "import pandas as pd\n",
    "import scipy.sparse as sp\n",
    "from scipy import io\n",
    "\n",
    "import matplotlib.pyplot as plt\n",
    "from matplotlib import rcParams\n",
    "rcParams['pdf.fonttype'] = 42 ## Output Type 3 (Type3) or Type 42 (TrueType)\n",
    "rcParams['font.sans-serif'] = 'Arial'\n",
    "%matplotlib inline\n",
    "\n",
    "from plots import COLORS10, enlarge_tick_fontsize\n",
    "import seaborn as sns\n",
    "sns.set_style('whitegrid')\n",
    "\n",
    "from sklearn.cross_validation import (StratifiedKFold, cross_val_score)\n",
    "from sklearn.metrics import *\n",
    "from sklearn.decomposition import TruncatedSVD\n",
    "from sklearn import ensemble\n",
    "from sklearn.pipeline import Pipeline\n",
    "import xgboost as xgb"
   ]
  },
  {
   "cell_type": "markdown",
   "metadata": {},
   "source": [
    "# 1. Prepare the gene/feature attribute matrices and target class to for supervised machine learning\n",
    "\n",
    "Load known Barrier Complex Genes components from file"
   ]
  },
  {
   "cell_type": "code",
   "execution_count": 186,
   "metadata": {
    "collapsed": false
   },
   "outputs": [
    {
     "name": "stdout",
     "output_type": "stream",
     "text": [
      "(63, 1)\n"
     ]
    },
    {
     "data": {
      "text/html": [
       "<div>\n",
       "<table border=\"1\" class=\"dataframe\">\n",
       "  <thead>\n",
       "    <tr style=\"text-align: right;\">\n",
       "      <th></th>\n",
       "      <th>Official Symbol</th>\n",
       "    </tr>\n",
       "  </thead>\n",
       "  <tbody>\n",
       "    <tr>\n",
       "      <th>0</th>\n",
       "      <td>S100A10</td>\n",
       "    </tr>\n",
       "    <tr>\n",
       "      <th>1</th>\n",
       "      <td>S100A11</td>\n",
       "    </tr>\n",
       "    <tr>\n",
       "      <th>2</th>\n",
       "      <td>TCHHL1</td>\n",
       "    </tr>\n",
       "    <tr>\n",
       "      <th>3</th>\n",
       "      <td>TCHH</td>\n",
       "    </tr>\n",
       "    <tr>\n",
       "      <th>4</th>\n",
       "      <td>RPTN</td>\n",
       "    </tr>\n",
       "  </tbody>\n",
       "</table>\n",
       "</div>"
      ],
      "text/plain": [
       "  Official Symbol\n",
       "0         S100A10\n",
       "1         S100A11\n",
       "2          TCHHL1\n",
       "3            TCHH\n",
       "4            RPTN"
      ]
     },
     "execution_count": 186,
     "metadata": {},
     "output_type": "execute_result"
    }
   ],
   "source": [
    "df_labels = pd.read_csv('data/components.csv')\n",
    "print df_labels.shape\n",
    "df_labels.head()"
   ]
  },
  {
   "cell_type": "markdown",
   "metadata": {},
   "source": [
    "These files below were downloaded from [Harmonizome](http://amp.pharm.mssm.edu/Harmonizome/) as the features for genes to predict whether they are adhesome components. \n",
    "\n",
    "There are two types datasets: continues and binary. Continues datasets were standardized.    "
   ]
  },
  {
   "cell_type": "code",
   "execution_count": null,
   "metadata": {
    "collapsed": true
   },
   "outputs": [],
   "source": [
    "filenames = [\n",
    "        #'InterPro_gene_attribute_matrix.txt.gz', \n",
    "        'ENCODE-TF_gene_attribute_matrix.txt.gz',\n",
    "        'CCLE-GE_gene_attribute_matrix_standardized.txt.gz',\n",
    "        'Allen-adult-brain_gene_attribute_matrix_standardized.txt.gz',\n",
    "        'Allen-dev-brain_gene_attribute_matrix_standardized.txt.gz'\n",
    "    ]\n",
    "basenames = [f.split('_')[0] for f in filenames]\n",
    "are_continues = ['_standardized' in f for f in filenames]"
   ]
  },
  {
   "cell_type": "code",
   "execution_count": null,
   "metadata": {
    "collapsed": false
   },
   "outputs": [],
   "source": [
    "def read_gene_attribute_matrix(fn):\n",
    "\t'''\n",
    "\tReads a gzipped file downloaded from Harmonizome into a pandas.DataFrame,\n",
    "\twith GeneSym as index. \n",
    "\t'''\n",
    "\twith gzip.open(fn) as f:\n",
    "\t\treader = csv.reader(f, delimiter='\\t')\n",
    "\t\theader = reader.next()\n",
    "\t\theader[0] = 'GeneSym'\n",
    "\t\t# Skip line 2, 3\n",
    "\t\treader.next()\n",
    "\t\treader.next()\n",
    "\n",
    "\t\t# Remove the second and third columns which are meta data for GeneSym\n",
    "\t\theader[1:3] = []\n",
    "\n",
    "\t\ti = 0\n",
    "\t\tdf = []\n",
    "        \n",
    "\t\tfor row in reader:\n",
    "\t\t\trow[1:3] = []\n",
    "\t\t\trow[1:] = map(float, row[1:])\n",
    "\t\t\tdf.append(dict(zip(header, row)))\n",
    "\t\t\ti += 1\n",
    "\t\t\tif i % 2000 == 0:\n",
    "\t\t\t\tprint i\n",
    "\t\tdf = pd.DataFrame().from_records(df)[header]\n",
    "\t\tdf.set_index('GeneSym', inplace=True, verify_integrity=True)\n",
    "\n",
    "#  \t\tif '_standardized' in fn: # continues\n",
    "# \t\t\tfor row in reader:\n",
    "# \t\t\t\trow[1:3] = []\n",
    "# \t\t\t\trow[1:] = map(float, row[1:])\n",
    "# \t\t\t\tdf.append(dict(zip(header, row)))\n",
    "# \t\t\t\ti += 1\n",
    "# \t\t\t\tif i % 2000 == 0:\n",
    "# \t\t\t\t\tprint i\n",
    "# \t\t\tdf = pd.DataFrame().from_records(df)[header]\n",
    "# \t\t\tdf.set_index('GeneSym', inplace=True, verify_integrity=True)\n",
    "\t\t\t\t\t\n",
    "# \t\telse: # convert values to int and make sparse df\n",
    "# \t\t\tfor row in reader:\n",
    "# \t\t\t\trow[1:3] = []\n",
    "# \t\t\t\trow[1:] = map(lambda x: int(float(x)), row[1:])\n",
    "\n",
    "# \t\t\t\td = {h: v for h, v in zip(header, row) if v != 0}\n",
    "# \t\t\t\tdf.append(d)\n",
    "# \t\t\t\ti += 1\n",
    "# \t\t\t\tif i % 2000 == 0:\n",
    "# \t\t\t\t\tprint i\n",
    "# \t\t\tdf = pd.DataFrame().from_records(df)[header]\\\n",
    "# \t\t\t\t.set_index('GeneSym', verify_integrity=True)\\\n",
    "# \t\t\t\t.to_sparse(fill_value=0)\n",
    "\t\t\n",
    "\treturn df"
   ]
  },
  {
   "cell_type": "code",
   "execution_count": null,
   "metadata": {
    "collapsed": false
   },
   "outputs": [],
   "source": [
    "## Parse data files downloaded from Harmonizome \n",
    "dfs = []\n",
    "for fn in filenames:\n",
    "    df = read_gene_attribute_matrix('data/%s' % fn)\n",
    "    print fn, df.shape\n",
    "    dfs.append(df)"
   ]
  },
  {
   "cell_type": "code",
   "execution_count": null,
   "metadata": {
    "collapsed": false
   },
   "outputs": [],
   "source": [
    "#dfs"
   ]
  },
  {
   "cell_type": "code",
   "execution_count": null,
   "metadata": {
    "collapsed": false
   },
   "outputs": [],
   "source": [
    "#dfs[dfs== np.nan] = str(0.0)\n"
   ]
  },
  {
   "cell_type": "code",
   "execution_count": null,
   "metadata": {
    "collapsed": false
   },
   "outputs": [],
   "source": [
    "#df_labels[y>0]"
   ]
  },
  {
   "cell_type": "code",
   "execution_count": null,
   "metadata": {
    "collapsed": false
   },
   "outputs": [],
   "source": [
    "## INNER JOIN all feature dfs \n",
    "df_joined = reduce(lambda a, b: pd.merge(a, b, left_index=True, right_index=True, how='outer'), \n",
    "           dfs)\n",
    "print df_joined.shape"
   ]
  },
  {
   "cell_type": "code",
   "execution_count": null,
   "metadata": {
    "collapsed": false
   },
   "outputs": [],
   "source": [
    "df_joined.replace(np.nan, 0.0, inplace=True)\n",
    "df_joined.replace(np.inf, 0.0, inplace=True)"
   ]
  },
  {
   "cell_type": "code",
   "execution_count": null,
   "metadata": {
    "collapsed": false
   },
   "outputs": [],
   "source": [
    "#'FLG' in df_joined.index.sort_values()"
   ]
  },
  {
   "cell_type": "code",
   "execution_count": null,
   "metadata": {
    "collapsed": false
   },
   "outputs": [],
   "source": [
    "## Create y \n",
    "RNG = 2016\n",
    "y = np.in1d(df_joined.index, df_labels['Official Symbol']).astype(np.int8)\n",
    "print y.sum()\n",
    "## Make CV\n",
    "cv = StratifiedKFold(y, n_folds=3, shuffle=True, random_state=RNG)\n",
    "## Export y\n",
    "df_labels = pd.DataFrame({'y': y, 'GeneSym': df_joined.index}).set_index('GeneSym')\n",
    "print df_labels.shape\n",
    "df_labels.to_csv('data/Barrier_Complex_Genes.csv')\n",
    "df_labels.head()"
   ]
  },
  {
   "cell_type": "code",
   "execution_count": null,
   "metadata": {
    "collapsed": false
   },
   "outputs": [],
   "source": [
    "## Keep only the shared genes across the 4 datasets\n",
    "dfs = [df.ix[df_joined.index] for df in dfs]"
   ]
  },
  {
   "cell_type": "code",
   "execution_count": null,
   "metadata": {
    "collapsed": false
   },
   "outputs": [],
   "source": [
    "## Export processed matrices in dfs\n",
    "feature_names = {} # To store feature names\n",
    "i = 0\n",
    "# for basename, df in zip(basenames, dfs):\n",
    "#     feature_names[basename] = df.columns.tolist()\n",
    "#     if are_continues[i]:\n",
    "#         np.save('data/%s_shared' % basename, df.values)\n",
    "#     else: # sparse matrix\n",
    "#         io.mmwrite('data/%s_shared.mtx' % basename, sp.csr_matrix(df.values))\n",
    "#     i += 1\n",
    "\n",
    "for basename, df in zip(basenames, dfs):\n",
    "    feature_names[basename] = df.columns.tolist()\n",
    "\n",
    "    np.save('data/%s_shared' % basename, df.values)\n",
    "\n",
    "\n",
    "del df_joined\n",
    "del dfs, df"
   ]
  },
  {
   "cell_type": "markdown",
   "metadata": {},
   "source": [
    "# 2. Load preprocessed matrices and perform classifications"
   ]
  },
  {
   "cell_type": "code",
   "execution_count": null,
   "metadata": {
    "collapsed": false
   },
   "outputs": [],
   "source": [
    "# Load from matrices files generated above\n",
    "Xs = []\n",
    "# for i, basename in enumerate(basenames):\n",
    "#     if are_continues[i]:\n",
    "#         Xs.append(np.load('data/%s_shared.npy' % basename))\n",
    "#     else:\n",
    "#         Xs.append(io.mmread('data/%s_shared.mtx' % basename))#.tocsr())\n",
    "\n",
    "for i, basename in enumerate(basenames):\n",
    "    Xs.append(np.load('data/%s_shared.npy' % basename))\n",
    "\n",
    "df_labels = pd.read_csv('data/Barrier_Complex_Genes.csv')\n",
    "y = df_labels['y'].values\n",
    "ratio = float(np.sum(y == 0)) / np.sum(y==1)\n",
    "print 'Number of known P53 components: %d' % y.sum()\n",
    "print 'Ratio of negative labels over positive labels: %.4f' % ratio"
   ]
  },
  {
   "cell_type": "markdown",
   "metadata": {},
   "source": [
    "Perform dimentionality reduction using `TruncatedSVD` for all the matrices"
   ]
  },
  {
   "cell_type": "code",
   "execution_count": null,
   "metadata": {
    "collapsed": false
   },
   "outputs": [],
   "source": [
    "#Xs[1] = np.nan_to_num(Xs[1])"
   ]
  },
  {
   "cell_type": "code",
   "execution_count": null,
   "metadata": {
    "collapsed": false
   },
   "outputs": [],
   "source": [
    "Xs"
   ]
  },
  {
   "cell_type": "code",
   "execution_count": null,
   "metadata": {
    "collapsed": false
   },
   "outputs": [],
   "source": [
    "all_loadings = [] # collect loading matrices from SVD\n",
    "for i, basename in enumerate(basenames):\n",
    "    print i\n",
    "    svd = TruncatedSVD(n_components=60, random_state=RNG)\n",
    "    Xs[i] = np.nan_to_num(Xs[i])\n",
    "    Xs[i] = svd.fit_transform(Xs[i])\n",
    "    all_loadings.append(svd.components_)    \n",
    "\n",
    "X_combined = np.hstack(Xs)"
   ]
  },
  {
   "cell_type": "code",
   "execution_count": null,
   "metadata": {
    "collapsed": true
   },
   "outputs": [],
   "source": [
    "## Helper functions for evaluating classifiers\n",
    "def cross_val_predictions(est, X, y, cv):\n",
    "\t'''to get out-of-sample predictions and scores'''\n",
    "\ty_preds = np.zeros(y.shape)\n",
    "\ty_probas = np.zeros(y.shape)\n",
    "\tfor train_idx, valid_idx in cv:\n",
    "\t\tprint X[train_idx].shape, y[train_idx].shape\n",
    "\t\test.fit(X[train_idx], y[train_idx])\n",
    "\t\ty_preds[valid_idx] = est.predict(X[valid_idx])\n",
    "\t\ty_probas[valid_idx] = est.predict_proba(X[valid_idx])[:,1]\n",
    "\treturn y_preds, y_probas\n",
    "\n",
    "\n",
    "def plot_roc(ests, Xs, y, cv, ax, colors=None, labels=None):\n",
    "\tall_labels = []\n",
    "\ttotal = len(labels)\n",
    "\n",
    "\tif type(ests) == list and type(Xs) != list:\n",
    "\t\ttotal = len(ests)\n",
    "\t\tXs = [Xs]*total\n",
    "\telif type(ests) != list and type(Xs) == list:\n",
    "\t\tests = [ests]*total\n",
    "\t\n",
    "\tfor i in range(total):\n",
    "\t\tX = Xs[i]\n",
    "\t\test = ests[i]\n",
    "\t\t\n",
    "\t\tlabel = labels[i]\n",
    "\t\tcolor = colors[i]\n",
    "\t\tall_labels.extend([label] * len(cv))\n",
    "\n",
    "\t\ty_preds, y_probas = cross_val_predictions(est, X, y, cv)\n",
    "\t\tfpr, tpr, _ = roc_curve(y, y_probas)\n",
    "\t\tscore = auc(fpr, tpr)\n",
    "\t\tax.plot(fpr, tpr, label=label + ' (AUC=%.3f)' % score, color=color, lw=2)\n",
    "\n",
    "\tax.set_xlabel('False Positive Rate', fontsize=16)\n",
    "\tax.set_ylabel('True Positive Rate', fontsize=16)\n",
    "\n",
    "\tenlarge_tick_fontsize(ax, 12)\n",
    "\tax.legend(loc='lower right')\n",
    "\treturn"
   ]
  },
  {
   "cell_type": "markdown",
   "metadata": {},
   "source": [
    "Estimate the number of rounds of boosting using early stopping for a single feature matrix InterPro: The boosting classifier will stop if the validation score does not improve in 50 rounds."
   ]
  },
  {
   "cell_type": "code",
   "execution_count": null,
   "metadata": {
    "collapsed": false
   },
   "outputs": [],
   "source": []
  },
  {
   "cell_type": "code",
   "execution_count": null,
   "metadata": {
    "collapsed": false
   },
   "outputs": [],
   "source": [
    "dtrain = xgb.DMatrix(Xs[0], label=y)\n",
    "\n",
    "param = {\n",
    "    'max_depth':10, 'eta':0.05, 'silent':1, 'objective':'binary:logistic',\n",
    "    'subsample': 0.4, 'colsample_bytree': 0.6,\n",
    "    'min_child_weight': 50,\n",
    "    'scale_pos_weight': ratio,\n",
    "    'nthread': 6\n",
    "}\n",
    "\n",
    "num_round = 5000\n",
    "scores = xgb.cv(param, dtrain, num_round, early_stopping_rounds=50, metrics='auc', seed=RNG, verbose_eval=10)\n",
    "\n",
    "print scores.tail()\n"
   ]
  },
  {
   "cell_type": "markdown",
   "metadata": {},
   "source": [
    "Estimate the number of rounds of boosting using early stopping for the combined feature matrix."
   ]
  },
  {
   "cell_type": "code",
   "execution_count": null,
   "metadata": {
    "collapsed": false
   },
   "outputs": [],
   "source": [
    "dtrain = xgb.DMatrix(X_combined, label=y)\n",
    "\n",
    "param = {\n",
    "    'max_depth':12, 'eta':0.05, 'silent':1, 'objective':'binary:logistic',\n",
    "    'subsample': 0.4, 'colsample_bytree': 0.4,\n",
    "    'min_child_weight': 50,\n",
    "    'scale_pos_weight': ratio,\n",
    "    'nthread': 6\n",
    "}\n",
    "\n",
    "num_round = 5000\n",
    "scores = xgb.cv(param, dtrain, num_round,\n",
    "    early_stopping_rounds=50,\n",
    "    metrics='auc', seed=RNG,\n",
    "    verbose_eval=10)\n",
    "\n",
    "print scores.tail()\n"
   ]
  },
  {
   "cell_type": "markdown",
   "metadata": {},
   "source": [
    "Plot the ROC curves to evaluate the predictive performance of the GBM classifiers"
   ]
  },
  {
   "cell_type": "code",
   "execution_count": null,
   "metadata": {
    "collapsed": false
   },
   "outputs": [],
   "source": [
    "Xs.append(X_combined)\n",
    "basenames.append('Combined')\n",
    "\n",
    "# optimized GBM classifiers\n",
    "xgbc = xgb.XGBClassifier(seed=RNG, n_estimators=39, learning_rate=0.05,\n",
    "    max_depth=10, colsample_bytree=0.6, subsample=0.4, min_child_weight=50,\n",
    "    gamma=0, max_delta_step=0, nthread=6, silent=True, scale_pos_weight=ratio)\n",
    "\n",
    "xgbc2 = xgb.XGBClassifier(seed=RNG, n_estimators=159, learning_rate=0.05,\n",
    "    max_depth=12, colsample_bytree=0.4, subsample=0.4, min_child_weight=50,\n",
    "    gamma=0, max_delta_step=0, nthread=6, silent=True, scale_pos_weight=ratio)\n",
    "\n",
    "clfs = [xgbc] * 5 + [xgbc2]\n",
    "\n",
    "fig, ax = plt.subplots(figsize=(6,6))\n",
    "plot_roc(clfs, Xs, y, cv, ax, colors=COLORS10, labels=basenames)"
   ]
  },
  {
   "cell_type": "markdown",
   "metadata": {},
   "source": [
    "# 3. Apply the GBM classifier to all the datasets to generate predictions "
   ]
  },
  {
   "cell_type": "code",
   "execution_count": null,
   "metadata": {
    "collapsed": false
   },
   "outputs": [],
   "source": [
    "RNG = 20160628\n",
    "xgbc2 = xgb.XGBClassifier(seed=RNG, n_estimators=160, learning_rate=0.05,\n",
    "    max_depth=12, colsample_bytree=0.4, subsample=0.4, min_child_weight=50,\n",
    "    gamma=0, max_delta_step=0, nthread=8, silent=True, scale_pos_weight=ratio)\n",
    "\n",
    "cv = StratifiedKFold(y, n_folds=10, shuffle=True, random_state=RNG)\n",
    "\n",
    "## Get out-of-fold predictions\n",
    "y_preds, y_probas = cross_val_predictions(xgbc2, X_combined, y, cv)\n",
    "\n",
    "## Get predictions on training fold\n",
    "xgbc2.fit(X_combined, y)\n",
    "y_probas_on_train = xgbc2.predict_proba(X_combined)[:, 1]\n"
   ]
  },
  {
   "cell_type": "code",
   "execution_count": null,
   "metadata": {
    "collapsed": false
   },
   "outputs": [],
   "source": [
    "df_labels['OOF_preds'] = y_preds\n",
    "df_labels['OOF_probas'] = y_probas\n",
    "df_labels['train_probas'] = y_probas_on_train\n",
    "\n",
    "df_labels[df_labels['OOF_preds'] != 0].sort_values('OOF_probas', ascending=False).to_csv('Results', index=False, sep='\\t')\n",
    "#df_labels.sort_values('OOF_preds', ascending=False)"
   ]
  },
  {
   "cell_type": "code",
   "execution_count": null,
   "metadata": {
    "collapsed": true
   },
   "outputs": [],
   "source": [
    "df_labels.to_csv('Barrier_Complex_Genes_on_combined_predictions.csv')"
   ]
  },
  {
   "cell_type": "code",
   "execution_count": null,
   "metadata": {
    "collapsed": false
   },
   "outputs": [],
   "source": [
    "df_labels[df_labels['OOF_preds'] != 0].sort_values('OOF_probas', ascending=False)"
   ]
  },
  {
   "cell_type": "markdown",
   "metadata": {},
   "source": [
    "# 4. Interpret the classifier by feature importance"
   ]
  },
  {
   "cell_type": "code",
   "execution_count": null,
   "metadata": {
    "collapsed": false
   },
   "outputs": [],
   "source": [
    "## Get the feature_importances_ from the fitted GBM\n",
    "feature_importances = xgbc2.feature_importances_\n",
    "print feature_importances.shape"
   ]
  },
  {
   "cell_type": "code",
   "execution_count": null,
   "metadata": {
    "collapsed": false
   },
   "outputs": [],
   "source": [
    "## Count the number of original features\n",
    "n_features = sum(map(len, feature_names.values()))\n",
    "print 'There are %d features across these datasets used for the prediction' % n_features"
   ]
  },
  {
   "cell_type": "markdown",
   "metadata": {},
   "source": [
    "Map feature importances on the SVD components back to original feature space by dot product between the feature importance vector and the loading matrix:"
   ]
  },
  {
   "cell_type": "code",
   "execution_count": null,
   "metadata": {
    "collapsed": false
   },
   "outputs": [],
   "source": [
    "all_feature_names = []\n",
    "all_feature_fis = []\n",
    "datasets = []\n",
    "for i, basename in enumerate(basenames[:-1]):\n",
    "    fi = feature_importances[i*60:(i+1)*60]\n",
    "    loadings = all_loadings[i]\n",
    "    original_feature_fis = np.dot(fi, loadings)\n",
    "    original_feature_names = feature_names[basename]\n",
    "    \n",
    "    datasets.extend([basename] * len(original_feature_names))\n",
    "    all_feature_fis.extend( original_feature_fis.tolist() )\n",
    "    all_feature_names.extend( original_feature_names )\n",
    "\n",
    "# Create a DataFrame of feature importances\n",
    "df_feature_importances = pd.DataFrame({\n",
    "        'dataset': datasets,\n",
    "        'feature': all_feature_names, \n",
    "        'feature_importance': all_feature_fis})    "
   ]
  },
  {
   "cell_type": "markdown",
   "metadata": {},
   "source": [
    "Examine the most predictive features for adhesome components:"
   ]
  },
  {
   "cell_type": "code",
   "execution_count": null,
   "metadata": {
    "collapsed": false
   },
   "outputs": [],
   "source": [
    "df_feature_importances.sort('feature_importance', ascending=False).head(20)"
   ]
  },
  {
   "cell_type": "markdown",
   "metadata": {},
   "source": [
    "Examine the most predictive features in ENCODE-TF dataset for adhesome components:"
   ]
  },
  {
   "cell_type": "code",
   "execution_count": null,
   "metadata": {
    "collapsed": false
   },
   "outputs": [],
   "source": [
    "cancer_import = df_feature_importances.query('dataset == \"CCLE-GE\"').sort('feature_importance', ascending=False).head(10)"
   ]
  },
  {
   "cell_type": "code",
   "execution_count": null,
   "metadata": {
    "collapsed": false
   },
   "outputs": [],
   "source": [
    "cancer_import"
   ]
  },
  {
   "cell_type": "markdown",
   "metadata": {},
   "source": [
    "Write the full feature importance table to a file and provide a link to this file."
   ]
  },
  {
   "cell_type": "code",
   "execution_count": null,
   "metadata": {
    "collapsed": false
   },
   "outputs": [],
   "source": [
    "df_feature_importances.to_csv('feature_importances.csv')\n",
    "\n",
    "from IPython.display import FileLink\n",
    "FileLink('feature_importances.csv')"
   ]
  },
  {
   "cell_type": "code",
   "execution_count": null,
   "metadata": {
    "collapsed": true
   },
   "outputs": [],
   "source": [
    "metadata = pd.read_csv('attribute_list_entries.txt', sep='\\t')"
   ]
  },
  {
   "cell_type": "code",
   "execution_count": null,
   "metadata": {
    "collapsed": false
   },
   "outputs": [],
   "source": [
    "metadata.set_index('CellLine', inplace=True)\n",
    "metadata.head()"
   ]
  },
  {
   "cell_type": "code",
   "execution_count": null,
   "metadata": {
    "collapsed": false
   },
   "outputs": [],
   "source": [
    "cancer_import.insert(2, 'Tissue', np.nan)"
   ]
  },
  {
   "cell_type": "code",
   "execution_count": null,
   "metadata": {
    "collapsed": true
   },
   "outputs": [],
   "source": [
    "cancer_import.set_index('feature', inplace=True)\n",
    "for cell in cancer_import.index:\n",
    "    for comp in metadata.index:\n",
    "        if cell == comp:\n",
    "            cancer_import.ix[cell, 'Tissue'] = metadata.ix[comp, 'Tissue']"
   ]
  },
  {
   "cell_type": "code",
   "execution_count": null,
   "metadata": {
    "collapsed": true
   },
   "outputs": [],
   "source": [
    "cancer_import.reset_index(inplace=True)"
   ]
  },
  {
   "cell_type": "markdown",
   "metadata": {},
   "source": [
    "Tabulate top values of cancer cells that contribute to prediction"
   ]
  },
  {
   "cell_type": "code",
   "execution_count": null,
   "metadata": {
    "collapsed": false
   },
   "outputs": [],
   "source": [
    "cancer_import"
   ]
  },
  {
   "cell_type": "markdown",
   "metadata": {},
   "source": [
    "### Gene expresion analysis"
   ]
  },
  {
   "cell_type": "code",
   "execution_count": null,
   "metadata": {
    "collapsed": false
   },
   "outputs": [],
   "source": [
    "ccle_data = pd.read_csv('CCLE_Expression_Entrez_2012-09-29.gct', sep='\\t', skiprows=2)"
   ]
  },
  {
   "cell_type": "code",
   "execution_count": null,
   "metadata": {
    "collapsed": false
   },
   "outputs": [],
   "source": [
    "ccle_data.pop('Name');"
   ]
  },
  {
   "cell_type": "code",
   "execution_count": null,
   "metadata": {
    "collapsed": true
   },
   "outputs": [],
   "source": [
    "ccle_data.set_index('Description', inplace=True)"
   ]
  },
  {
   "cell_type": "code",
   "execution_count": null,
   "metadata": {
    "collapsed": true
   },
   "outputs": [],
   "source": [
    "ccle_data = ccle_data.apply(lambda x: np.log2(x))"
   ]
  },
  {
   "cell_type": "code",
   "execution_count": null,
   "metadata": {
    "collapsed": true
   },
   "outputs": [],
   "source": [
    "# z-score standardize the data\n",
    "ccle_data = ccle_data.apply(lambda x: (x-x.mean())/x.std(ddof=0), axis=1)"
   ]
  },
  {
   "cell_type": "code",
   "execution_count": null,
   "metadata": {
    "collapsed": false
   },
   "outputs": [],
   "source": [
    "ccle_data = ccle_data.T"
   ]
  },
  {
   "cell_type": "code",
   "execution_count": null,
   "metadata": {
    "collapsed": false
   },
   "outputs": [],
   "source": [
    "test = pd.read_csv('data/components.csv')\n",
    "test = test.values.flatten().tolist()\n",
    "col = ccle_data.columns.intersection(test)"
   ]
  },
  {
   "cell_type": "code",
   "execution_count": null,
   "metadata": {
    "collapsed": false
   },
   "outputs": [],
   "source": [
    "ccle_data = ccle_data[col]"
   ]
  },
  {
   "cell_type": "markdown",
   "metadata": {},
   "source": [
    "Here List of the cancers that show the genes are found to be up (or down) regulated was compiled by method of a absolute mean. The mean and absolute mean for the gene values for each cancer sample were computed. The cancer samples were then sorted based on the absolute mean as a measure of gene presence. List were then compiled for the top 100 cancer samples that showed the highest absolute mean; if the ratio of positive to negative values was greater the sample was listed as having the genes present as up regulaors."
   ]
  },
  {
   "cell_type": "code",
   "execution_count": null,
   "metadata": {
    "collapsed": false
   },
   "outputs": [],
   "source": [
    "st = ccle_data.T.describe()\n",
    "st"
   ]
  },
  {
   "cell_type": "code",
   "execution_count": null,
   "metadata": {
    "collapsed": false
   },
   "outputs": [],
   "source": [
    "ccle_data_ab = ccle_data.apply(lambda x: abs(x))"
   ]
  },
  {
   "cell_type": "code",
   "execution_count": null,
   "metadata": {
    "collapsed": false
   },
   "outputs": [],
   "source": [
    "ccle_data_ab.head()"
   ]
  },
  {
   "cell_type": "code",
   "execution_count": null,
   "metadata": {
    "collapsed": false
   },
   "outputs": [],
   "source": [
    "abst = ccle_data_ab.T.describe()\n",
    "abst"
   ]
  },
  {
   "cell_type": "code",
   "execution_count": null,
   "metadata": {
    "collapsed": true
   },
   "outputs": [],
   "source": [
    "meta = pd.read_json('CCLE_CL_meta.json')"
   ]
  },
  {
   "cell_type": "code",
   "execution_count": null,
   "metadata": {
    "collapsed": false
   },
   "outputs": [],
   "source": [
    "stats = pd.DataFrame(index=ccle_data.index, columns=['hist','hist_sub', 'gender','mean','abs_mean', 'std', 'up_reg', 'dn_reg', 'sum', 'sum_abs'])\n",
    "\n",
    "for can in stats.index:\n",
    "    stats.ix[can, 'mean'] = st.ix['mean', can]\n",
    "    stats.ix[can, 'std'] = st.ix['std', can]\n",
    "    stats.ix[can, 'abs_mean'] = abst.ix['mean', can]\n",
    "    pos = 0\n",
    "    neg = 0\n",
    "    for gene in ccle_data.columns:\n",
    "        if ccle_data.ix[can, gene] > 0:\n",
    "            pos += 1\n",
    "        elif ccle_data.ix[can, gene] < 0:\n",
    "            neg += 1\n",
    "    stats.ix[can, 'up_reg'] = pos\n",
    "    stats.ix[can, 'dn_reg'] = neg\n",
    "    for comp in meta.columns:\n",
    "        if can == comp:\n",
    "            stats.ix[can, 'hist'] = meta.ix['hist', comp]\n",
    "            stats.ix[can, 'hist_sub'] = meta.ix['hist_sub', comp]\n",
    "            stats.ix[can, 'gender'] = meta.ix['gender', comp]\n",
    "    stats.ix[can, 'sum'] = ccle_data.ix[can].sum()\n",
    "    stats.ix[can, 'sum_abs'] = ccle_data_ab.ix[can].sum()\n",
    "\n",
    "\n",
    "stats.head()"
   ]
  },
  {
   "cell_type": "code",
   "execution_count": null,
   "metadata": {
    "collapsed": false
   },
   "outputs": [],
   "source": [
    "stats.sort_values(['abs_mean'], inplace=True, ascending=False)\n",
    "stats.head(100)"
   ]
  },
  {
   "cell_type": "code",
   "execution_count": null,
   "metadata": {
    "collapsed": false
   },
   "outputs": [],
   "source": [
    "up_lst = []\n",
    "dn_lst = []\n",
    "for can in stats.index:\n",
    "    if stats.ix[can, 'up_reg'] > stats.ix[can, 'dn_reg']:\n",
    "        up_lst.append(can)\n",
    "    elif stats.ix[can, 'up_reg'] < stats.ix[can, 'dn_reg']:\n",
    "        dn_lst.append(can)"
   ]
  },
  {
   "cell_type": "code",
   "execution_count": null,
   "metadata": {
    "collapsed": false
   },
   "outputs": [],
   "source": [
    "up_lst = up_lst[0:100]\n",
    "dn_lst = dn_lst[0:100]"
   ]
  },
  {
   "cell_type": "markdown",
   "metadata": {},
   "source": [
    "List of cancer samples with gene presence as up regulated"
   ]
  },
  {
   "cell_type": "code",
   "execution_count": null,
   "metadata": {
    "collapsed": false
   },
   "outputs": [],
   "source": [
    "up_lst"
   ]
  },
  {
   "cell_type": "markdown",
   "metadata": {},
   "source": [
    "List of cancer samples with gene presence as down regulated"
   ]
  },
  {
   "cell_type": "code",
   "execution_count": null,
   "metadata": {
    "collapsed": false
   },
   "outputs": [],
   "source": [
    "dn_lst"
   ]
  },
  {
   "cell_type": "code",
   "execution_count": null,
   "metadata": {
    "collapsed": false
   },
   "outputs": [],
   "source": [
    "ccle_data.ix[dn_lst]"
   ]
  },
  {
   "cell_type": "markdown",
   "metadata": {},
   "source": [
    "Here List of the cancers that show the genes are found to be up (or down) regulated was compiled by method of a tertiary matrix. The data was first converted to a tertiary matrix by the top 10% of values being represented either as a 1 for up regulation of -1 for down. The values were then sumed across each cancer sample and a list of the top 100 cancers showing values were created. "
   ]
  },
  {
   "cell_type": "code",
   "execution_count": null,
   "metadata": {
    "collapsed": false
   },
   "outputs": [],
   "source": [
    "vals = abs(ccle_data.values.flatten())\n",
    "vals = np.sort(vals)"
   ]
  },
  {
   "cell_type": "code",
   "execution_count": null,
   "metadata": {
    "collapsed": true
   },
   "outputs": [],
   "source": [
    "pos = abs(ccle_data) > vals[-int(0.1*ccle_data.values.size):][0] \n",
    "up = ccle_data > 0\n",
    "down = ccle_data < 0"
   ]
  },
  {
   "cell_type": "code",
   "execution_count": null,
   "metadata": {
    "collapsed": true
   },
   "outputs": [],
   "source": [
    "terup = pos & up\n",
    "terup = terup.applymap(lambda x: 1 if x else np.nan)\n",
    "terdown = pos & down\n",
    "terdown = terdown.applymap(lambda x: -1 if x else np.nan)\n",
    "terup.fillna(0, inplace=True)\n",
    "terdown.fillna(0, inplace=True)"
   ]
  },
  {
   "cell_type": "code",
   "execution_count": null,
   "metadata": {
    "collapsed": true
   },
   "outputs": [],
   "source": [
    "tertiary_df = terup + terdown"
   ]
  },
  {
   "cell_type": "code",
   "execution_count": null,
   "metadata": {
    "collapsed": false
   },
   "outputs": [],
   "source": [
    "tertiary_df.replace(0.0, np.nan, inplace=True)\n",
    "tertiary_df.dropna(axis=1, how='all', inplace=True)\n",
    "tertiary_df.dropna(axis=0, how='all', inplace=True)\n",
    "tertiary_df.replace(np.nan, 0, inplace=True)"
   ]
  },
  {
   "cell_type": "code",
   "execution_count": null,
   "metadata": {
    "collapsed": false
   },
   "outputs": [],
   "source": [
    "s = tertiary_df.sum(axis=1)"
   ]
  },
  {
   "cell_type": "code",
   "execution_count": null,
   "metadata": {
    "collapsed": false
   },
   "outputs": [],
   "source": [
    "s.sort_values(inplace=True)"
   ]
  },
  {
   "cell_type": "code",
   "execution_count": null,
   "metadata": {
    "collapsed": false
   },
   "outputs": [],
   "source": [
    "dn_lst_ter = s[0:100]\n",
    "up_lst_ter = s[-100:]"
   ]
  },
  {
   "cell_type": "code",
   "execution_count": null,
   "metadata": {
    "collapsed": false
   },
   "outputs": [],
   "source": [
    "up_lst_ter.sort_values(inplace=True, ascending=False)\n"
   ]
  },
  {
   "cell_type": "markdown",
   "metadata": {},
   "source": [
    "List of cancer samples with gene presence as up regulated"
   ]
  },
  {
   "cell_type": "code",
   "execution_count": null,
   "metadata": {
    "collapsed": false
   },
   "outputs": [],
   "source": [
    "up_lst_ter.index.tolist()"
   ]
  },
  {
   "cell_type": "markdown",
   "metadata": {},
   "source": [
    "List of cancer samples with gene presence as down regulated"
   ]
  },
  {
   "cell_type": "code",
   "execution_count": null,
   "metadata": {
    "collapsed": false
   },
   "outputs": [],
   "source": [
    "dn_lst_ter.index.tolist()"
   ]
  },
  {
   "cell_type": "markdown",
   "metadata": {
    "collapsed": false
   },
   "source": [
    "## The Cancer Genome Atlas"
   ]
  },
  {
   "cell_type": "code",
   "execution_count": 370,
   "metadata": {
    "collapsed": false
   },
   "outputs": [
    {
     "name": "stdout",
     "output_type": "stream",
     "text": [
      "(0, 0)\n",
      "(62, 79)\n",
      "(62, 512)\n",
      "(62, 1768)\n",
      "(62, 2077)\n",
      "(62, 2122)\n",
      "(62, 2668)\n",
      "(62, 2716)\n",
      "(62, 2914)\n",
      "(62, 3089)\n",
      "(62, 3655)\n",
      "(62, 3746)\n",
      "(62, 4364)\n",
      "(62, 4687)\n",
      "(62, 4866)\n",
      "(62, 5400)\n",
      "(62, 5824)\n",
      "(62, 6425)\n",
      "(62, 6980)\n",
      "(62, 7067)\n",
      "(62, 7497)\n",
      "(62, 7680)\n",
      "(62, 7867)\n",
      "(62, 8425)\n",
      "(62, 8602)\n",
      "(62, 8867)\n",
      "(62, 9340)\n",
      "(62, 9793)\n",
      "(62, 9949)\n",
      "(62, 10521)\n",
      "(62, 10643)\n",
      "(62, 11236)\n",
      "(62, 11293)\n",
      "(62, 11373)\n"
     ]
    }
   ],
   "source": [
    "TCGA = pd.DataFrame()\n",
    "\n",
    "print TCGA.shape\n",
    "          \n",
    "for fn in os.listdir('Piccolo'):\n",
    "    if 'TCGA' in fn and 'Meta' not in fn and 'MAP' not in fn:\n",
    "        df = pd.read_csv('Piccolo/'+fn, sep='\\t', index_col=0)\n",
    "        \n",
    "        lst =[]\n",
    "        for a in df.index:\n",
    "             lst.append(a.split('|')[5])\n",
    "\n",
    "        df.index = lst\n",
    "\n",
    "        df.reset_index(inplace=True)\n",
    "        df.drop_duplicates(subset='index', inplace=True)\n",
    "        df.set_index('index', inplace=True)\n",
    "\n",
    "        q = df.index.intersection(df_labels.values.flatten().tolist())\n",
    "        df = df.T\n",
    "        df = df[q]\n",
    "        df = df.T\n",
    "        \n",
    "        if TCGA.empty:\n",
    "            TCGA = df.copy()\n",
    "        else:\n",
    "            TCGA = pd.concat([TCGA, df], axis=1)\n",
    "        print TCGA.shape"
   ]
  },
  {
   "cell_type": "code",
   "execution_count": 371,
   "metadata": {
    "collapsed": true
   },
   "outputs": [],
   "source": [
    "TCGA.to_csv('TCGA_tpm.csv', sep='\\t')"
   ]
  },
  {
   "cell_type": "code",
   "execution_count": 472,
   "metadata": {
    "collapsed": true
   },
   "outputs": [],
   "source": [
    "TCGA = pd.read_csv('TCGA_tpm.csv', sep='\\t', index_col=0)"
   ]
  },
  {
   "cell_type": "code",
   "execution_count": 473,
   "metadata": {
    "collapsed": true
   },
   "outputs": [],
   "source": [
    "TCGA = TCGA.T"
   ]
  },
  {
   "cell_type": "code",
   "execution_count": 474,
   "metadata": {
    "collapsed": false
   },
   "outputs": [],
   "source": [
    "meta = pd.read_csv('Piccolo/TCGA_Metadata.csv', sep=',')"
   ]
  },
  {
   "cell_type": "code",
   "execution_count": 475,
   "metadata": {
    "collapsed": false
   },
   "outputs": [],
   "source": [
    "meta = meta[['a_CGHubAnalysisID', 'b_disease']]"
   ]
  },
  {
   "cell_type": "code",
   "execution_count": 476,
   "metadata": {
    "collapsed": true
   },
   "outputs": [],
   "source": [
    "meta.set_index('a_CGHubAnalysisID', inplace=True)"
   ]
  },
  {
   "cell_type": "code",
   "execution_count": 477,
   "metadata": {
    "collapsed": false
   },
   "outputs": [],
   "source": [
    "#meta.head()"
   ]
  },
  {
   "cell_type": "code",
   "execution_count": 478,
   "metadata": {
    "collapsed": false
   },
   "outputs": [],
   "source": [
    "TCGA = pd.concat([TCGA, meta], axis=1)"
   ]
  },
  {
   "cell_type": "code",
   "execution_count": 479,
   "metadata": {
    "collapsed": true
   },
   "outputs": [],
   "source": [
    "TCGA.set_index('b_disease', inplace=True)"
   ]
  },
  {
   "cell_type": "code",
   "execution_count": 480,
   "metadata": {
    "collapsed": true
   },
   "outputs": [],
   "source": [
    "TCGA.index.name = 'Cancer'"
   ]
  },
  {
   "cell_type": "code",
   "execution_count": 487,
   "metadata": {
    "collapsed": false
   },
   "outputs": [],
   "source": [
    "TCGA.replace(0.0, np.nan, inplace=True)\n",
    "TCGA.dropna(axis=0, thresh=int(0.9*len(TCGA.columns)), inplace=True)#drop any cancer that does not have more then 10% of these genes"
   ]
  },
  {
   "cell_type": "code",
   "execution_count": 488,
   "metadata": {
    "collapsed": false
   },
   "outputs": [],
   "source": [
    "cancers = TCGA.index.unique().tolist()"
   ]
  },
  {
   "cell_type": "code",
   "execution_count": 489,
   "metadata": {
    "collapsed": false
   },
   "outputs": [
    {
     "data": {
      "text/plain": [
       "['HNSC', 'CESC', 'ESCA', 'BRCA', 'BLCA', 'LUSC', 'STAD', 'SKCM', 'TGCT']"
      ]
     },
     "execution_count": 489,
     "metadata": {},
     "output_type": "execute_result"
    }
   ],
   "source": [
    "cancers"
   ]
  },
  {
   "cell_type": "code",
   "execution_count": 490,
   "metadata": {
    "collapsed": false
   },
   "outputs": [],
   "source": [
    "acro = pd.read_csv('Table_of_Cancer_Acro.csv', sep='\\t', index_col=0)"
   ]
  },
  {
   "cell_type": "code",
   "execution_count": 491,
   "metadata": {
    "collapsed": false
   },
   "outputs": [],
   "source": [
    "lst_can = []\n",
    "\n",
    "for c in cancers:\n",
    "    for d in acro.index:\n",
    "        if c in d:\n",
    "            lst_can.append(d)"
   ]
  },
  {
   "cell_type": "markdown",
   "metadata": {},
   "source": [
    "Here is a list of cancers that contain at least 90% of the set of genes"
   ]
  },
  {
   "cell_type": "code",
   "execution_count": 492,
   "metadata": {
    "collapsed": false
   },
   "outputs": [
    {
     "name": "stdout",
     "output_type": "stream",
     "text": [
      "Head and Neck squamous cell carcinoma [HNSC]\n",
      "Cervical squamous cell carcinoma and endocervical adenocarcinoma [CESC]\n",
      "Esophageal carcinoma [ESCA]\n",
      "Breast invasive carcinoma [BRCA]\n",
      "Bladder Urothelial Carcinoma [BLCA]\n",
      "Lung squamous cell carcinoma [LUSC]\n",
      "Stomach adenocarcinoma [STAD]\n",
      "Skin Cutaneous Melanoma [SKCM]\n",
      "Testicular Germ Cell Tumors [TGCT]\n"
     ]
    }
   ],
   "source": [
    "for a in lst_can: print a"
   ]
  }
 ],
 "metadata": {
  "anaconda-cloud": {},
  "kernelspec": {
   "display_name": "Python [conda env:py27]",
   "language": "python",
   "name": "conda-env-py27-py"
  },
  "language_info": {
   "codemirror_mode": {
    "name": "ipython",
    "version": 2
   },
   "file_extension": ".py",
   "mimetype": "text/x-python",
   "name": "python",
   "nbconvert_exporter": "python",
   "pygments_lexer": "ipython2",
   "version": "2.7.12"
  }
 },
 "nbformat": 4,
 "nbformat_minor": 0
}
