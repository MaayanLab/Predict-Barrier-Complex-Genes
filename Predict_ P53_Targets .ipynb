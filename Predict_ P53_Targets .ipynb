{
 "cells": [
  {
   "cell_type": "code",
   "execution_count": 1,
   "metadata": {
    "collapsed": false
   },
   "outputs": [],
   "source": [
    "import os, sys, csv, gzip\n",
    "import numpy as np\n",
    "import pandas as pd\n",
    "import scipy.sparse as sp\n",
    "from scipy import io\n",
    "\n",
    "import matplotlib.pyplot as plt\n",
    "from matplotlib import rcParams\n",
    "rcParams['pdf.fonttype'] = 42 ## Output Type 3 (Type3) or Type 42 (TrueType)\n",
    "rcParams['font.sans-serif'] = 'Arial'\n",
    "%matplotlib inline\n",
    "\n",
    "from plots import COLORS10, enlarge_tick_fontsize\n",
    "import seaborn as sns\n",
    "sns.set_style('whitegrid')\n",
    "\n",
    "from sklearn.cross_validation import (StratifiedKFold, cross_val_score)\n",
    "from sklearn.metrics import *\n",
    "from sklearn.decomposition import TruncatedSVD\n",
    "from sklearn import ensemble\n",
    "from sklearn.pipeline import Pipeline\n",
    "import xgboost as xgb"
   ]
  },
  {
   "cell_type": "markdown",
   "metadata": {},
   "source": [
    "# 1. Prepare the gene/feature attribute matrices and target class to for supervised machine learning\n",
    "\n",
    "Load known  P53 targets components from file"
   ]
  },
  {
   "cell_type": "code",
   "execution_count": 2,
   "metadata": {
    "collapsed": false
   },
   "outputs": [
    {
     "name": "stdout",
     "output_type": "stream",
     "text": [
      "(63, 1)\n"
     ]
    },
    {
     "data": {
      "text/html": [
       "<div>\n",
       "<table border=\"1\" class=\"dataframe\">\n",
       "  <thead>\n",
       "    <tr style=\"text-align: right;\">\n",
       "      <th></th>\n",
       "      <th>Official Symbol</th>\n",
       "    </tr>\n",
       "  </thead>\n",
       "  <tbody>\n",
       "    <tr>\n",
       "      <th>0</th>\n",
       "      <td>S100A10</td>\n",
       "    </tr>\n",
       "    <tr>\n",
       "      <th>1</th>\n",
       "      <td>S100A11</td>\n",
       "    </tr>\n",
       "    <tr>\n",
       "      <th>2</th>\n",
       "      <td>TCHHL1</td>\n",
       "    </tr>\n",
       "    <tr>\n",
       "      <th>3</th>\n",
       "      <td>TCHH</td>\n",
       "    </tr>\n",
       "    <tr>\n",
       "      <th>4</th>\n",
       "      <td>RPTN</td>\n",
       "    </tr>\n",
       "  </tbody>\n",
       "</table>\n",
       "</div>"
      ],
      "text/plain": [
       "  Official Symbol\n",
       "0         S100A10\n",
       "1         S100A11\n",
       "2          TCHHL1\n",
       "3            TCHH\n",
       "4            RPTN"
      ]
     },
     "execution_count": 2,
     "metadata": {},
     "output_type": "execute_result"
    }
   ],
   "source": [
    "df_labels = pd.read_csv('data/components.csv')\n",
    "print df_labels.shape\n",
    "df_labels.head()"
   ]
  },
  {
   "cell_type": "markdown",
   "metadata": {},
   "source": [
    "These files below were downloaded from [Harmonizome](http://amp.pharm.mssm.edu/Harmonizome/) as the features for genes to predict whether they are adhesome components. \n",
    "\n",
    "There are two types datasets: continues and binary. Continues datasets were standardized.    "
   ]
  },
  {
   "cell_type": "code",
   "execution_count": 3,
   "metadata": {
    "collapsed": true
   },
   "outputs": [],
   "source": [
    "filenames = [\n",
    "        #'InterPro_gene_attribute_matrix.txt.gz', \n",
    "        #'ENCODE-TF_gene_attribute_matrix.txt.gz',\n",
    "        'CCLE-GE_gene_attribute_matrix_standardized.txt.gz',\n",
    "        'Allen-adult-brain_gene_attribute_matrix_standardized.txt.gz',\n",
    "        'Allen-dev-brain_gene_attribute_matrix_standardized.txt.gz'\n",
    "    ]\n",
    "basenames = [f.split('_')[0] for f in filenames]\n",
    "are_continues = ['_standardized' in f for f in filenames]"
   ]
  },
  {
   "cell_type": "code",
   "execution_count": 4,
   "metadata": {
    "collapsed": true
   },
   "outputs": [],
   "source": [
    "def read_gene_attribute_matrix(fn):\n",
    "\t'''\n",
    "\tReads a gzipped file downloaded from Harmonizome into a pandas.DataFrame,\n",
    "\twith GeneSym as index. \n",
    "\t'''\n",
    "\twith gzip.open(fn) as f:\n",
    "\t\treader = csv.reader(f, delimiter='\\t')\n",
    "\t\theader = reader.next()\n",
    "\t\theader[0] = 'GeneSym'\n",
    "\t\t# Skip line 2, 3\n",
    "\t\treader.next()\n",
    "\t\treader.next()\n",
    "\n",
    "\t\t# Remove the second and third columns which are meta data for GeneSym\n",
    "\t\theader[1:3] = []\n",
    "\n",
    "\t\ti = 0\n",
    "\t\tdf = []\n",
    "\n",
    "\t\tif '_standardized' in fn: # continues\n",
    "\t\t\tfor row in reader:\n",
    "\t\t\t\trow[1:3] = []\n",
    "\t\t\t\trow[1:] = map(float, row[1:])\n",
    "\t\t\t\tdf.append(dict(zip(header, row)))\n",
    "\t\t\t\ti += 1\n",
    "\t\t\t\tif i % 2000 == 0:\n",
    "\t\t\t\t\tprint i\n",
    "\t\t\tdf = pd.DataFrame().from_records(df)[header]\n",
    "\t\t\tdf.set_index('GeneSym', inplace=True, verify_integrity=True)\n",
    "\t\t\t\t\t\n",
    "\t\telse: # convert values to int and make sparse df\n",
    "\t\t\tfor row in reader:\n",
    "\t\t\t\trow[1:3] = []\n",
    "\t\t\t\trow[1:] = map(lambda x: int(float(x)), row[1:])\n",
    "\n",
    "\t\t\t\td = {h: v for h, v in zip(header, row) if v != 0}\n",
    "\t\t\t\tdf.append(d)\n",
    "\t\t\t\ti += 1\n",
    "\t\t\t\tif i % 2000 == 0:\n",
    "\t\t\t\t\tprint i\n",
    "\t\t\tdf = pd.DataFrame().from_records(df)[header]\\\n",
    "\t\t\t\t.set_index('GeneSym', verify_integrity=True)\\\n",
    "\t\t\t\t.to_sparse(fill_value=0)\n",
    "\t\t\n",
    "\treturn df"
   ]
  },
  {
   "cell_type": "code",
   "execution_count": 5,
   "metadata": {
    "collapsed": false
   },
   "outputs": [
    {
     "name": "stdout",
     "output_type": "stream",
     "text": [
      "2000\n",
      "4000\n",
      "6000\n",
      "8000\n",
      "10000\n",
      "12000\n",
      "14000\n",
      "16000\n",
      "18000\n",
      "CCLE-GE_gene_attribute_matrix_standardized.txt.gz (18046, 1037)\n",
      "2000\n",
      "4000\n",
      "6000\n",
      "8000\n",
      "10000\n",
      "12000\n",
      "14000\n",
      "16000\n",
      "Allen-adult-brain_gene_attribute_matrix_standardized.txt.gz (17979, 414)\n",
      "2000\n",
      "4000\n",
      "6000\n",
      "8000\n",
      "10000\n",
      "12000\n",
      "14000\n",
      "Allen-dev-brain_gene_attribute_matrix_standardized.txt.gz (15072, 524)\n"
     ]
    }
   ],
   "source": [
    "## Parse data files downloaded from Harmonizome \n",
    "dfs = []\n",
    "for fn in filenames:\n",
    "    df = read_gene_attribute_matrix('data/%s' % fn)\n",
    "    print fn, df.shape\n",
    "    dfs.append(df)"
   ]
  },
  {
   "cell_type": "code",
   "execution_count": 6,
   "metadata": {
    "collapsed": false
   },
   "outputs": [],
   "source": [
    "#dfs"
   ]
  },
  {
   "cell_type": "code",
   "execution_count": 7,
   "metadata": {
    "collapsed": false
   },
   "outputs": [],
   "source": [
    "#dfs[dfs== np.nan] = str(0.0)\n"
   ]
  },
  {
   "cell_type": "code",
   "execution_count": 8,
   "metadata": {
    "collapsed": false
   },
   "outputs": [],
   "source": [
    "#df_labels[y>0]"
   ]
  },
  {
   "cell_type": "code",
   "execution_count": 9,
   "metadata": {
    "collapsed": false
   },
   "outputs": [
    {
     "name": "stdout",
     "output_type": "stream",
     "text": [
      "(21155, 1975)\n"
     ]
    }
   ],
   "source": [
    "## INNER JOIN all feature dfs \n",
    "df_joined = reduce(lambda a, b: pd.merge(a, b, left_index=True, right_index=True, how='outer'), \n",
    "           dfs)\n",
    "print df_joined.shape"
   ]
  },
  {
   "cell_type": "code",
   "execution_count": 10,
   "metadata": {
    "collapsed": false
   },
   "outputs": [],
   "source": [
    "df_joined.replace(np.nan, 0.0, inplace=True)\n",
    "df_joined.replace(np.inf, 0.0, inplace=True)"
   ]
  },
  {
   "cell_type": "code",
   "execution_count": 11,
   "metadata": {
    "collapsed": false
   },
   "outputs": [],
   "source": [
    "#'FLG' in df_joined.index.sort_values()"
   ]
  },
  {
   "cell_type": "code",
   "execution_count": 12,
   "metadata": {
    "collapsed": false
   },
   "outputs": [
    {
     "name": "stdout",
     "output_type": "stream",
     "text": [
      "56\n",
      "(21155, 1)\n"
     ]
    },
    {
     "data": {
      "text/html": [
       "<div>\n",
       "<table border=\"1\" class=\"dataframe\">\n",
       "  <thead>\n",
       "    <tr style=\"text-align: right;\">\n",
       "      <th></th>\n",
       "      <th>y</th>\n",
       "    </tr>\n",
       "    <tr>\n",
       "      <th>GeneSym</th>\n",
       "      <th></th>\n",
       "    </tr>\n",
       "  </thead>\n",
       "  <tbody>\n",
       "    <tr>\n",
       "      <th>A1BG</th>\n",
       "      <td>0</td>\n",
       "    </tr>\n",
       "    <tr>\n",
       "      <th>A1BG-AS1</th>\n",
       "      <td>0</td>\n",
       "    </tr>\n",
       "    <tr>\n",
       "      <th>A1CF</th>\n",
       "      <td>0</td>\n",
       "    </tr>\n",
       "    <tr>\n",
       "      <th>A2M</th>\n",
       "      <td>0</td>\n",
       "    </tr>\n",
       "    <tr>\n",
       "      <th>A2M-AS1</th>\n",
       "      <td>0</td>\n",
       "    </tr>\n",
       "  </tbody>\n",
       "</table>\n",
       "</div>"
      ],
      "text/plain": [
       "          y\n",
       "GeneSym    \n",
       "A1BG      0\n",
       "A1BG-AS1  0\n",
       "A1CF      0\n",
       "A2M       0\n",
       "A2M-AS1   0"
      ]
     },
     "execution_count": 12,
     "metadata": {},
     "output_type": "execute_result"
    }
   ],
   "source": [
    "## Create y \n",
    "RNG = 2016\n",
    "y = np.in1d(df_joined.index, df_labels['Official Symbol']).astype(np.int8)\n",
    "print y.sum()\n",
    "## Make CV\n",
    "cv = StratifiedKFold(y, n_folds=3, shuffle=True, random_state=RNG)\n",
    "## Export y\n",
    "df_labels = pd.DataFrame({'y': y, 'GeneSym': df_joined.index}).set_index('GeneSym')\n",
    "print df_labels.shape\n",
    "df_labels.to_csv('data/P53_targets.csv')\n",
    "df_labels.head()"
   ]
  },
  {
   "cell_type": "code",
   "execution_count": 13,
   "metadata": {
    "collapsed": false
   },
   "outputs": [],
   "source": [
    "## Keep only the shared genes across the 4 datasets\n",
    "dfs = [df.ix[df_joined.index] for df in dfs]"
   ]
  },
  {
   "cell_type": "code",
   "execution_count": 14,
   "metadata": {
    "collapsed": false
   },
   "outputs": [],
   "source": [
    "## Export processed matrices in dfs\n",
    "feature_names = {} # To store feature names\n",
    "i = 0\n",
    "for basename, df in zip(basenames, dfs):\n",
    "    feature_names[basename] = df.columns.tolist()\n",
    "    if are_continues[i]:\n",
    "        np.save('data/%s_shared' % basename, df.values)\n",
    "    else: # sparse matrix\n",
    "        io.mmwrite('data/%s_shared.mtx' % basename, sp.csr_matrix(df.values))\n",
    "    i += 1\n",
    "\n",
    "del df_joined\n",
    "del dfs, df"
   ]
  },
  {
   "cell_type": "markdown",
   "metadata": {},
   "source": [
    "# 2. Load preprocessed matrices and perform classifications"
   ]
  },
  {
   "cell_type": "code",
   "execution_count": 17,
   "metadata": {
    "collapsed": false
   },
   "outputs": [
    {
     "name": "stdout",
     "output_type": "stream",
     "text": [
      "Number of known adhesome components: 56\n",
      "Ratio of negative labels over positive labels: 376.7679\n"
     ]
    }
   ],
   "source": [
    "# Load from matrices files generated above\n",
    "Xs = []\n",
    "for i, basename in enumerate(basenames):\n",
    "    if are_continues[i]:\n",
    "        Xs.append(np.load('data/%s_shared.npy' % basename))\n",
    "    else:\n",
    "        Xs.append(io.mmread('data/%s_shared.mtx' % basename).tocsr())\n",
    "\n",
    "df_labels = pd.read_csv('data/P53_targets.csv')\n",
    "y = df_labels['y'].values\n",
    "ratio = float(np.sum(y == 0)) / np.sum(y==1)\n",
    "print 'Number of known P53 components: %d' % y.sum()\n",
    "print 'Ratio of negative labels over positive labels: %.4f' % ratio"
   ]
  },
  {
   "cell_type": "markdown",
   "metadata": {},
   "source": [
    "Perform dimentionality reduction using `TruncatedSVD` for all the matrices"
   ]
  },
  {
   "cell_type": "code",
   "execution_count": 18,
   "metadata": {
    "collapsed": false
   },
   "outputs": [],
   "source": [
    "#Xs[1] = np.nan_to_num(Xs[1])"
   ]
  },
  {
   "cell_type": "code",
   "execution_count": 19,
   "metadata": {
    "collapsed": false
   },
   "outputs": [],
   "source": [
    "#Xs"
   ]
  },
  {
   "cell_type": "code",
   "execution_count": 20,
   "metadata": {
    "collapsed": false
   },
   "outputs": [
    {
     "name": "stdout",
     "output_type": "stream",
     "text": [
      "0\n",
      "1\n",
      "2\n"
     ]
    }
   ],
   "source": [
    "all_loadings = [] # collect loading matrices from SVD\n",
    "for i, basename in enumerate(basenames):\n",
    "    print i\n",
    "    svd = TruncatedSVD(n_components=60, random_state=RNG)\n",
    "    Xs[i] = np.nan_to_num(Xs[i])\n",
    "    Xs[i] = svd.fit_transform(Xs[i])\n",
    "    all_loadings.append(svd.components_)    \n",
    "\n",
    "X_combined = np.hstack(Xs)"
   ]
  },
  {
   "cell_type": "code",
   "execution_count": 21,
   "metadata": {
    "collapsed": true
   },
   "outputs": [],
   "source": [
    "## Helper functions for evaluating classifiers\n",
    "def cross_val_predictions(est, X, y, cv):\n",
    "\t'''to get out-of-sample predictions and scores'''\n",
    "\ty_preds = np.zeros(y.shape)\n",
    "\ty_probas = np.zeros(y.shape)\n",
    "\tfor train_idx, valid_idx in cv:\n",
    "\t\tprint X[train_idx].shape, y[train_idx].shape\n",
    "\t\test.fit(X[train_idx], y[train_idx])\n",
    "\t\ty_preds[valid_idx] = est.predict(X[valid_idx])\n",
    "\t\ty_probas[valid_idx] = est.predict_proba(X[valid_idx])[:,1]\n",
    "\treturn y_preds, y_probas\n",
    "\n",
    "\n",
    "def plot_roc(ests, Xs, y, cv, ax, colors=None, labels=None):\n",
    "\tall_labels = []\n",
    "\ttotal = len(labels)\n",
    "\n",
    "\tif type(ests) == list and type(Xs) != list:\n",
    "\t\ttotal = len(ests)\n",
    "\t\tXs = [Xs]*total\n",
    "\telif type(ests) != list and type(Xs) == list:\n",
    "\t\tests = [ests]*total\n",
    "\t\n",
    "\tfor i in range(total):\n",
    "\t\tX = Xs[i]\n",
    "\t\test = ests[i]\n",
    "\t\t\n",
    "\t\tlabel = labels[i]\n",
    "\t\tcolor = colors[i]\n",
    "\t\tall_labels.extend([label] * len(cv))\n",
    "\n",
    "\t\ty_preds, y_probas = cross_val_predictions(est, X, y, cv)\n",
    "\t\tfpr, tpr, _ = roc_curve(y, y_probas)\n",
    "\t\tscore = auc(fpr, tpr)\n",
    "\t\tax.plot(fpr, tpr, label=label + ' (AUC=%.3f)' % score, color=color, lw=2)\n",
    "\n",
    "\tax.set_xlabel('False Positive Rate', fontsize=16)\n",
    "\tax.set_ylabel('True Positive Rate', fontsize=16)\n",
    "\n",
    "\tenlarge_tick_fontsize(ax, 12)\n",
    "\tax.legend(loc='lower right')\n",
    "\treturn"
   ]
  },
  {
   "cell_type": "markdown",
   "metadata": {},
   "source": [
    "Estimate the number of rounds of boosting using early stopping for a single feature matrix InterPro: The boosting classifier will stop if the validation score does not improve in 50 rounds."
   ]
  },
  {
   "cell_type": "code",
   "execution_count": null,
   "metadata": {
    "collapsed": false
   },
   "outputs": [],
   "source": []
  },
  {
   "cell_type": "code",
   "execution_count": 22,
   "metadata": {
    "collapsed": false
   },
   "outputs": [
    {
     "name": "stdout",
     "output_type": "stream",
     "text": [
      "[0]\ttrain-auc:0.859278+0.0463089\ttest-auc:0.727542+0.0285119\n",
      "[10]\ttrain-auc:0.899225+0.011348\ttest-auc:0.751531+0.0241969\n",
      "[20]\ttrain-auc:0.901956+0.0113729\ttest-auc:0.794142+0.0244536\n",
      "[30]\ttrain-auc:0.912053+0.00369958\ttest-auc:0.801494+0.0403057\n",
      "[40]\ttrain-auc:0.926038+0.00653248\ttest-auc:0.80962+0.0332806\n",
      "[50]\ttrain-auc:0.938931+0.00733524\ttest-auc:0.812465+0.0378645\n",
      "[60]\ttrain-auc:0.951388+0.00154893\ttest-auc:0.820051+0.0337167\n",
      "[70]\ttrain-auc:0.95126+0.0107033\ttest-auc:0.822755+0.0332268\n",
      "[80]\ttrain-auc:0.969021+0.00670305\ttest-auc:0.824242+0.0299275\n",
      "[90]\ttrain-auc:0.973727+0.00336903\ttest-auc:0.825047+0.0326471\n",
      "[100]\ttrain-auc:0.97262+0.00402313\ttest-auc:0.821371+0.0346602\n",
      "[110]\ttrain-auc:0.974028+0.00364259\ttest-auc:0.819634+0.0351483\n",
      "[120]\ttrain-auc:0.975114+0.00235569\ttest-auc:0.818627+0.0372819\n",
      "[130]\ttrain-auc:0.976235+0.00157172\ttest-auc:0.818085+0.0386797\n",
      "    test-auc-mean  test-auc-std  train-auc-mean  train-auc-std\n",
      "79       0.824648      0.030005        0.967903       0.007848\n",
      "80       0.824242      0.029928        0.969021       0.006703\n",
      "81       0.826351      0.028998        0.967896       0.007852\n",
      "82       0.826218      0.028890        0.967884       0.007859\n",
      "83       0.826552      0.028557        0.969004       0.006708\n"
     ]
    }
   ],
   "source": [
    "dtrain = xgb.DMatrix(Xs[0], label=y)\n",
    "\n",
    "param = {\n",
    "    'max_depth':10, 'eta':0.05, 'silent':1, 'objective':'binary:logistic',\n",
    "    'subsample': 0.4, 'colsample_bytree': 0.6,\n",
    "    'min_child_weight': 50,\n",
    "    'scale_pos_weight': ratio,\n",
    "    'nthread': 6\n",
    "}\n",
    "\n",
    "num_round = 5000\n",
    "scores = xgb.cv(param, dtrain, num_round, early_stopping_rounds=50, metrics='auc', seed=RNG, verbose_eval=10)\n",
    "\n",
    "print scores.tail()\n"
   ]
  },
  {
   "cell_type": "markdown",
   "metadata": {},
   "source": [
    "Estimate the number of rounds of boosting using early stopping for the combined feature matrix."
   ]
  },
  {
   "cell_type": "code",
   "execution_count": 23,
   "metadata": {
    "collapsed": false
   },
   "outputs": [
    {
     "name": "stdout",
     "output_type": "stream",
     "text": [
      "[0]\ttrain-auc:0.793219+0.0716136\ttest-auc:0.619681+0.00595549\n",
      "[10]\ttrain-auc:0.994644+0.00350208\ttest-auc:0.823023+0.0183975\n",
      "[20]\ttrain-auc:0.998856+0.000366864\ttest-auc:0.878957+0.0156689\n",
      "[30]\ttrain-auc:0.999455+8.82962e-05\ttest-auc:0.870775+0.0169474\n",
      "[40]\ttrain-auc:0.999747+0.000142535\ttest-auc:0.886858+0.0163288\n",
      "[50]\ttrain-auc:0.999866+0.000101128\ttest-auc:0.890409+0.017654\n",
      "[60]\ttrain-auc:0.999903+6.71863e-05\ttest-auc:0.891436+0.0123157\n",
      "[70]\ttrain-auc:0.999914+7.26147e-05\ttest-auc:0.90293+0.0141014\n",
      "[80]\ttrain-auc:0.999929+8.05523e-05\ttest-auc:0.903525+0.0140988\n",
      "[90]\ttrain-auc:0.999925+8.12171e-05\ttest-auc:0.903616+0.020635\n",
      "[100]\ttrain-auc:0.999945+4.62913e-05\ttest-auc:0.898709+0.0151519\n",
      "[110]\ttrain-auc:0.999952+4.76818e-05\ttest-auc:0.895329+0.0122913\n",
      "[120]\ttrain-auc:0.999959+4.39267e-05\ttest-auc:0.894231+0.0102951\n",
      "[130]\ttrain-auc:0.999967+3.87929e-05\ttest-auc:0.89472+0.00785571\n",
      "    test-auc-mean  test-auc-std  train-auc-mean  train-auc-std\n",
      "83       0.902051      0.016227        0.999929       0.000078\n",
      "84       0.901841      0.016875        0.999926       0.000082\n",
      "85       0.904495      0.015641        0.999923       0.000079\n",
      "86       0.904133      0.015965        0.999924       0.000080\n",
      "87       0.904902      0.016746        0.999927       0.000073\n"
     ]
    }
   ],
   "source": [
    "dtrain = xgb.DMatrix(X_combined, label=y)\n",
    "\n",
    "param = {\n",
    "    'max_depth':12, 'eta':0.05, 'silent':1, 'objective':'binary:logistic',\n",
    "    'subsample': 0.4, 'colsample_bytree': 0.4,\n",
    "    'min_child_weight': 50,\n",
    "    'scale_pos_weight': ratio,\n",
    "    'nthread': 6\n",
    "}\n",
    "\n",
    "num_round = 5000\n",
    "scores = xgb.cv(param, dtrain, num_round,\n",
    "    early_stopping_rounds=50,\n",
    "    metrics='auc', seed=RNG,\n",
    "    verbose_eval=10)\n",
    "\n",
    "print scores.tail()\n"
   ]
  },
  {
   "cell_type": "markdown",
   "metadata": {},
   "source": [
    "Plot the ROC curves to evaluate the predictive performance of the GBM classifiers"
   ]
  },
  {
   "cell_type": "code",
   "execution_count": 24,
   "metadata": {
    "collapsed": false
   },
   "outputs": [
    {
     "name": "stdout",
     "output_type": "stream",
     "text": [
      "(14103, 60) (14103,)\n",
      "(14103, 60) (14103,)\n",
      "(14104, 60) (14104,)\n",
      "(14103, 60) (14103,)\n",
      "(14103, 60) (14103,)\n",
      "(14104, 60) (14104,)\n",
      "(14103, 60) (14103,)\n",
      "(14103, 60) (14103,)\n",
      "(14104, 60) (14104,)\n",
      "(14103, 180) (14103,)\n",
      "(14103, 180) (14103,)\n",
      "(14104, 180) (14104,)\n"
     ]
    },
    {
     "data": {
      "image/png": "[encoded data removed]",
      "text/plain": [
       "<matplotlib.figure.Figure at 0x158a345d0>"
      ]
     },
     "metadata": {},
     "output_type": "display_data"
    }
   ],
   "source": [
    "Xs.append(X_combined)\n",
    "basenames.append('Combined')\n",
    "\n",
    "# optimized GBM classifiers\n",
    "xgbc = xgb.XGBClassifier(seed=RNG, n_estimators=39, learning_rate=0.05,\n",
    "    max_depth=10, colsample_bytree=0.6, subsample=0.4, min_child_weight=50,\n",
    "    gamma=0, max_delta_step=0, nthread=6, silent=True, scale_pos_weight=ratio)\n",
    "\n",
    "xgbc2 = xgb.XGBClassifier(seed=RNG, n_estimators=159, learning_rate=0.05,\n",
    "    max_depth=12, colsample_bytree=0.4, subsample=0.4, min_child_weight=50,\n",
    "    gamma=0, max_delta_step=0, nthread=6, silent=True, scale_pos_weight=ratio)\n",
    "\n",
    "clfs = [xgbc] * 5 + [xgbc2]\n",
    "\n",
    "fig, ax = plt.subplots(figsize=(6,6))\n",
    "plot_roc(clfs, Xs, y, cv, ax, colors=COLORS10, labels=basenames)"
   ]
  },
  {
   "cell_type": "markdown",
   "metadata": {},
   "source": [
    "# 3. Apply the GBM classifier to all the datasets to generate predictions "
   ]
  },
  {
   "cell_type": "code",
   "execution_count": 25,
   "metadata": {
    "collapsed": false
   },
   "outputs": [
    {
     "name": "stdout",
     "output_type": "stream",
     "text": [
      "(19039, 180) (19039,)\n",
      "(19039, 180) (19039,)\n",
      "(19039, 180) (19039,)\n",
      "(19039, 180) (19039,)\n",
      "(19039, 180) (19039,)\n",
      "(19039, 180) (19039,)\n",
      "(19040, 180) (19040,)\n",
      "(19040, 180) (19040,)\n",
      "(19040, 180) (19040,)\n",
      "(19041, 180) (19041,)\n"
     ]
    }
   ],
   "source": [
    "RNG = 20160628\n",
    "xgbc2 = xgb.XGBClassifier(seed=RNG, n_estimators=160, learning_rate=0.05,\n",
    "    max_depth=12, colsample_bytree=0.4, subsample=0.4, min_child_weight=50,\n",
    "    gamma=0, max_delta_step=0, nthread=8, silent=True, scale_pos_weight=ratio)\n",
    "\n",
    "cv = StratifiedKFold(y, n_folds=10, shuffle=True, random_state=RNG)\n",
    "\n",
    "## Get out-of-fold predictions\n",
    "y_preds, y_probas = cross_val_predictions(xgbc2, X_combined, y, cv)\n",
    "\n",
    "## Get predictions on training fold\n",
    "xgbc2.fit(X_combined, y)\n",
    "y_probas_on_train = xgbc2.predict_proba(X_combined)[:, 1]\n"
   ]
  },
  {
   "cell_type": "code",
   "execution_count": 26,
   "metadata": {
    "collapsed": false
   },
   "outputs": [],
   "source": [
    "df_labels['OOF_preds'] = y_preds\n",
    "df_labels['OOF_probas'] = y_probas\n",
    "df_labels['train_probas'] = y_probas_on_train\n",
    "\n",
    "df_labels[df_labels['OOF_preds'] != 0].sort_values('OOF_probas', ascending=False).to_csv('Results', index=False, sep='\\t')\n",
    "#df_labels.sort_values('OOF_preds', ascending=False)"
   ]
  },
  {
   "cell_type": "code",
   "execution_count": 27,
   "metadata": {
    "collapsed": true
   },
   "outputs": [],
   "source": [
    "df_labels.to_csv('P53_targets _on_combined_predictions.csv')"
   ]
  },
  {
   "cell_type": "markdown",
   "metadata": {},
   "source": [
    "# 4. Interpret the classifier by feature importance"
   ]
  },
  {
   "cell_type": "code",
   "execution_count": 28,
   "metadata": {
    "collapsed": false
   },
   "outputs": [
    {
     "name": "stdout",
     "output_type": "stream",
     "text": [
      "(180,)\n"
     ]
    }
   ],
   "source": [
    "## Get the feature_importances_ from the fitted GBM\n",
    "feature_importances = xgbc2.feature_importances_\n",
    "print feature_importances.shape"
   ]
  },
  {
   "cell_type": "code",
   "execution_count": 29,
   "metadata": {
    "collapsed": false
   },
   "outputs": [
    {
     "name": "stdout",
     "output_type": "stream",
     "text": [
      "There are 1975 features across these datasets used for the prediction\n"
     ]
    }
   ],
   "source": [
    "## Count the number of original features\n",
    "n_features = sum(map(len, feature_names.values()))\n",
    "print 'There are %d features across these datasets used for the prediction' % n_features"
   ]
  },
  {
   "cell_type": "markdown",
   "metadata": {},
   "source": [
    "Map feature importances on the SVD components back to original feature space by dot product between the feature importance vector and the loading matrix:"
   ]
  },
  {
   "cell_type": "code",
   "execution_count": 30,
   "metadata": {
    "collapsed": false
   },
   "outputs": [],
   "source": [
    "all_feature_names = []\n",
    "all_feature_fis = []\n",
    "datasets = []\n",
    "for i, basename in enumerate(basenames[:-1]):\n",
    "    fi = feature_importances[i*60:(i+1)*60]\n",
    "    loadings = all_loadings[i]\n",
    "    original_feature_fis = np.dot(fi, loadings)\n",
    "    original_feature_names = feature_names[basename]\n",
    "    \n",
    "    datasets.extend([basename] * len(original_feature_names))\n",
    "    all_feature_fis.extend( original_feature_fis.tolist() )\n",
    "    all_feature_names.extend( original_feature_names )\n",
    "\n",
    "# Create a DataFrame of feature importances\n",
    "df_feature_importances = pd.DataFrame({\n",
    "        'dataset': datasets,\n",
    "        'feature': all_feature_names, \n",
    "        'feature_importance': all_feature_fis})    "
   ]
  },
  {
   "cell_type": "markdown",
   "metadata": {},
   "source": [
    "Examine the most predictive features for adhesome components:"
   ]
  },
  {
   "cell_type": "code",
   "execution_count": 31,
   "metadata": {
    "collapsed": false
   },
   "outputs": [
    {
     "name": "stderr",
     "output_type": "stream",
     "text": [
      "/Users/moshesilverstein/anaconda/envs/py27/lib/python2.7/site-packages/ipykernel/__main__.py:1: FutureWarning: sort(columns=....) is deprecated, use sort_values(by=.....)\n",
      "  if __name__ == '__main__':\n"
     ]
    },
    {
     "data": {
      "text/html": [
       "<div>\n",
       "<table border=\"1\" class=\"dataframe\">\n",
       "  <thead>\n",
       "    <tr style=\"text-align: right;\">\n",
       "      <th></th>\n",
       "      <th>dataset</th>\n",
       "      <th>feature</th>\n",
       "      <th>feature_importance</th>\n",
       "    </tr>\n",
       "  </thead>\n",
       "  <tbody>\n",
       "    <tr>\n",
       "      <th>1083</th>\n",
       "      <td>Allen-adult-brain</td>\n",
       "      <td>Crus I, right, lateral hemisphere</td>\n",
       "      <td>0.012107</td>\n",
       "    </tr>\n",
       "    <tr>\n",
       "      <th>1427</th>\n",
       "      <td>Allen-adult-brain</td>\n",
       "      <td>pontine nuclei, right</td>\n",
       "      <td>0.011936</td>\n",
       "    </tr>\n",
       "    <tr>\n",
       "      <th>1428</th>\n",
       "      <td>Allen-adult-brain</td>\n",
       "      <td>arcuate nucleus of medulla, right</td>\n",
       "      <td>0.011865</td>\n",
       "    </tr>\n",
       "    <tr>\n",
       "      <th>1084</th>\n",
       "      <td>Allen-adult-brain</td>\n",
       "      <td>IX, right, paravermis</td>\n",
       "      <td>0.010571</td>\n",
       "    </tr>\n",
       "    <tr>\n",
       "      <th>1426</th>\n",
       "      <td>Allen-adult-brain</td>\n",
       "      <td>pontine nuclei, left</td>\n",
       "      <td>0.010322</td>\n",
       "    </tr>\n",
       "    <tr>\n",
       "      <th>1425</th>\n",
       "      <td>Allen-adult-brain</td>\n",
       "      <td>arcuate nucleus of medulla, left</td>\n",
       "      <td>0.008498</td>\n",
       "    </tr>\n",
       "    <tr>\n",
       "      <th>1429</th>\n",
       "      <td>Allen-adult-brain</td>\n",
       "      <td>cochlear nuclei, right</td>\n",
       "      <td>0.007905</td>\n",
       "    </tr>\n",
       "    <tr>\n",
       "      <th>1365</th>\n",
       "      <td>Allen-adult-brain</td>\n",
       "      <td>principal sensory nucleus of trigeminal nerve,...</td>\n",
       "      <td>0.007327</td>\n",
       "    </tr>\n",
       "    <tr>\n",
       "      <th>1354</th>\n",
       "      <td>Allen-adult-brain</td>\n",
       "      <td>interstitial nucleus of Cajal, right</td>\n",
       "      <td>0.006846</td>\n",
       "    </tr>\n",
       "    <tr>\n",
       "      <th>1350</th>\n",
       "      <td>Allen-adult-brain</td>\n",
       "      <td>oculomotor nuclear complex, right</td>\n",
       "      <td>0.006763</td>\n",
       "    </tr>\n",
       "    <tr>\n",
       "      <th>720</th>\n",
       "      <td>CCLE-GE</td>\n",
       "      <td>RKO</td>\n",
       "      <td>0.006085</td>\n",
       "    </tr>\n",
       "    <tr>\n",
       "      <th>1169</th>\n",
       "      <td>Allen-adult-brain</td>\n",
       "      <td>superior occipital gyrus, right, inferior bank...</td>\n",
       "      <td>0.006014</td>\n",
       "    </tr>\n",
       "    <tr>\n",
       "      <th>1385</th>\n",
       "      <td>Allen-adult-brain</td>\n",
       "      <td>dentate nucleus, right</td>\n",
       "      <td>0.005932</td>\n",
       "    </tr>\n",
       "    <tr>\n",
       "      <th>1352</th>\n",
       "      <td>Allen-adult-brain</td>\n",
       "      <td>trochlear nucleus, right</td>\n",
       "      <td>0.005918</td>\n",
       "    </tr>\n",
       "    <tr>\n",
       "      <th>1369</th>\n",
       "      <td>Allen-adult-brain</td>\n",
       "      <td>cuneate nucleus, right</td>\n",
       "      <td>0.005915</td>\n",
       "    </tr>\n",
       "    <tr>\n",
       "      <th>1351</th>\n",
       "      <td>Allen-adult-brain</td>\n",
       "      <td>trochlear nucleus, left</td>\n",
       "      <td>0.005852</td>\n",
       "    </tr>\n",
       "    <tr>\n",
       "      <th>1413</th>\n",
       "      <td>Allen-adult-brain</td>\n",
       "      <td>central gray of the pons, right</td>\n",
       "      <td>0.005438</td>\n",
       "    </tr>\n",
       "    <tr>\n",
       "      <th>1261</th>\n",
       "      <td>Allen-adult-brain</td>\n",
       "      <td>body of caudate nucleus, right</td>\n",
       "      <td>0.005420</td>\n",
       "    </tr>\n",
       "    <tr>\n",
       "      <th>719</th>\n",
       "      <td>CCLE-GE</td>\n",
       "      <td>NCIH1915</td>\n",
       "      <td>0.005406</td>\n",
       "    </tr>\n",
       "    <tr>\n",
       "      <th>1259</th>\n",
       "      <td>Allen-adult-brain</td>\n",
       "      <td>body of caudate nucleus, left</td>\n",
       "      <td>0.005390</td>\n",
       "    </tr>\n",
       "  </tbody>\n",
       "</table>\n",
       "</div>"
      ],
      "text/plain": [
       "                dataset                                            feature  \\\n",
       "1083  Allen-adult-brain                  Crus I, right, lateral hemisphere   \n",
       "1427  Allen-adult-brain                              pontine nuclei, right   \n",
       "1428  Allen-adult-brain                  arcuate nucleus of medulla, right   \n",
       "1084  Allen-adult-brain                              IX, right, paravermis   \n",
       "1426  Allen-adult-brain                               pontine nuclei, left   \n",
       "1425  Allen-adult-brain                   arcuate nucleus of medulla, left   \n",
       "1429  Allen-adult-brain                             cochlear nuclei, right   \n",
       "1365  Allen-adult-brain  principal sensory nucleus of trigeminal nerve,...   \n",
       "1354  Allen-adult-brain               interstitial nucleus of Cajal, right   \n",
       "1350  Allen-adult-brain                  oculomotor nuclear complex, right   \n",
       "720             CCLE-GE                                                RKO   \n",
       "1169  Allen-adult-brain  superior occipital gyrus, right, inferior bank...   \n",
       "1385  Allen-adult-brain                             dentate nucleus, right   \n",
       "1352  Allen-adult-brain                           trochlear nucleus, right   \n",
       "1369  Allen-adult-brain                             cuneate nucleus, right   \n",
       "1351  Allen-adult-brain                            trochlear nucleus, left   \n",
       "1413  Allen-adult-brain                    central gray of the pons, right   \n",
       "1261  Allen-adult-brain                     body of caudate nucleus, right   \n",
       "719             CCLE-GE                                           NCIH1915   \n",
       "1259  Allen-adult-brain                      body of caudate nucleus, left   \n",
       "\n",
       "      feature_importance  \n",
       "1083            0.012107  \n",
       "1427            0.011936  \n",
       "1428            0.011865  \n",
       "1084            0.010571  \n",
       "1426            0.010322  \n",
       "1425            0.008498  \n",
       "1429            0.007905  \n",
       "1365            0.007327  \n",
       "1354            0.006846  \n",
       "1350            0.006763  \n",
       "720             0.006085  \n",
       "1169            0.006014  \n",
       "1385            0.005932  \n",
       "1352            0.005918  \n",
       "1369            0.005915  \n",
       "1351            0.005852  \n",
       "1413            0.005438  \n",
       "1261            0.005420  \n",
       "719             0.005406  \n",
       "1259            0.005390  "
      ]
     },
     "execution_count": 31,
     "metadata": {},
     "output_type": "execute_result"
    }
   ],
   "source": [
    "df_feature_importances.sort('feature_importance', ascending=False).head(20)"
   ]
  },
  {
   "cell_type": "markdown",
   "metadata": {},
   "source": [
    "Examine the most predictive features in ENCODE-TF dataset for adhesome components:"
   ]
  },
  {
   "cell_type": "code",
   "execution_count": 38,
   "metadata": {
    "collapsed": false
   },
   "outputs": [
    {
     "name": "stderr",
     "output_type": "stream",
     "text": [
      "/Users/moshesilverstein/anaconda/envs/py27/lib/python2.7/site-packages/ipykernel/__main__.py:1: FutureWarning: sort(columns=....) is deprecated, use sort_values(by=.....)\n",
      "  if __name__ == '__main__':\n"
     ]
    }
   ],
   "source": [
    "cancer_import = df_feature_importances.query('dataset == \"CCLE-GE\"').sort('feature_importance', ascending=False).head(10)"
   ]
  },
  {
   "cell_type": "code",
   "execution_count": 39,
   "metadata": {
    "collapsed": false
   },
   "outputs": [
    {
     "data": {
      "text/html": [
       "<div>\n",
       "<table border=\"1\" class=\"dataframe\">\n",
       "  <thead>\n",
       "    <tr style=\"text-align: right;\">\n",
       "      <th></th>\n",
       "      <th>dataset</th>\n",
       "      <th>feature</th>\n",
       "      <th>feature_importance</th>\n",
       "    </tr>\n",
       "  </thead>\n",
       "  <tbody>\n",
       "    <tr>\n",
       "      <th>720</th>\n",
       "      <td>CCLE-GE</td>\n",
       "      <td>RKO</td>\n",
       "      <td>0.006085</td>\n",
       "    </tr>\n",
       "    <tr>\n",
       "      <th>719</th>\n",
       "      <td>CCLE-GE</td>\n",
       "      <td>NCIH1915</td>\n",
       "      <td>0.005406</td>\n",
       "    </tr>\n",
       "    <tr>\n",
       "      <th>148</th>\n",
       "      <td>CCLE-GE</td>\n",
       "      <td>ZR751</td>\n",
       "      <td>0.005294</td>\n",
       "    </tr>\n",
       "    <tr>\n",
       "      <th>632</th>\n",
       "      <td>CCLE-GE</td>\n",
       "      <td>SH4</td>\n",
       "      <td>0.005062</td>\n",
       "    </tr>\n",
       "    <tr>\n",
       "      <th>449</th>\n",
       "      <td>CCLE-GE</td>\n",
       "      <td>NCIH1563</td>\n",
       "      <td>0.004854</td>\n",
       "    </tr>\n",
       "    <tr>\n",
       "      <th>689</th>\n",
       "      <td>CCLE-GE</td>\n",
       "      <td>SLR20</td>\n",
       "      <td>0.004844</td>\n",
       "    </tr>\n",
       "    <tr>\n",
       "      <th>715</th>\n",
       "      <td>CCLE-GE</td>\n",
       "      <td>SW1990</td>\n",
       "      <td>0.004801</td>\n",
       "    </tr>\n",
       "    <tr>\n",
       "      <th>312</th>\n",
       "      <td>CCLE-GE</td>\n",
       "      <td>CORL105</td>\n",
       "      <td>0.004672</td>\n",
       "    </tr>\n",
       "    <tr>\n",
       "      <th>718</th>\n",
       "      <td>CCLE-GE</td>\n",
       "      <td>NCIH838</td>\n",
       "      <td>0.004668</td>\n",
       "    </tr>\n",
       "    <tr>\n",
       "      <th>349</th>\n",
       "      <td>CCLE-GE</td>\n",
       "      <td>SNU668</td>\n",
       "      <td>0.004526</td>\n",
       "    </tr>\n",
       "  </tbody>\n",
       "</table>\n",
       "</div>"
      ],
      "text/plain": [
       "     dataset   feature  feature_importance\n",
       "720  CCLE-GE       RKO            0.006085\n",
       "719  CCLE-GE  NCIH1915            0.005406\n",
       "148  CCLE-GE     ZR751            0.005294\n",
       "632  CCLE-GE       SH4            0.005062\n",
       "449  CCLE-GE  NCIH1563            0.004854\n",
       "689  CCLE-GE     SLR20            0.004844\n",
       "715  CCLE-GE    SW1990            0.004801\n",
       "312  CCLE-GE   CORL105            0.004672\n",
       "718  CCLE-GE   NCIH838            0.004668\n",
       "349  CCLE-GE    SNU668            0.004526"
      ]
     },
     "execution_count": 39,
     "metadata": {},
     "output_type": "execute_result"
    }
   ],
   "source": [
    "cancer_import"
   ]
  },
  {
   "cell_type": "markdown",
   "metadata": {},
   "source": [
    "Write the full feature importance table to a file and provide a link to this file."
   ]
  },
  {
   "cell_type": "code",
   "execution_count": 33,
   "metadata": {
    "collapsed": false
   },
   "outputs": [
    {
     "data": {
      "text/html": [
       "<a href='feature_importances.csv' target='_blank'>feature_importances.csv</a><br>"
      ],
      "text/plain": [
       "/Users/moshesilverstein/Desktop/untitled folder/feature_importances.csv"
      ]
     },
     "execution_count": 33,
     "metadata": {},
     "output_type": "execute_result"
    }
   ],
   "source": [
    "df_feature_importances.to_csv('feature_importances.csv')\n",
    "\n",
    "from IPython.display import FileLink\n",
    "FileLink('feature_importances.csv')"
   ]
  },
  {
   "cell_type": "code",
   "execution_count": 36,
   "metadata": {
    "collapsed": true
   },
   "outputs": [],
   "source": [
    "metadata = pd.read_csv('attribute_list_entries.txt', sep='\\t')"
   ]
  },
  {
   "cell_type": "code",
   "execution_count": null,
   "metadata": {
    "collapsed": true
   },
   "outputs": [],
   "source": []
  },
  {
   "cell_type": "code",
   "execution_count": 44,
   "metadata": {
    "collapsed": false
   },
   "outputs": [
    {
     "data": {
      "text/html": [
       "<div>\n",
       "<table border=\"1\" class=\"dataframe\">\n",
       "  <thead>\n",
       "    <tr style=\"text-align: right;\">\n",
       "      <th></th>\n",
       "      <th>Tissue</th>\n",
       "      <th>NA</th>\n",
       "    </tr>\n",
       "    <tr>\n",
       "      <th>CellLine</th>\n",
       "      <th></th>\n",
       "      <th></th>\n",
       "    </tr>\n",
       "  </thead>\n",
       "  <tbody>\n",
       "    <tr>\n",
       "      <th>CHL1</th>\n",
       "      <td>skin</td>\n",
       "      <td>na</td>\n",
       "    </tr>\n",
       "    <tr>\n",
       "      <th>HMCB</th>\n",
       "      <td>skin</td>\n",
       "      <td>na</td>\n",
       "    </tr>\n",
       "    <tr>\n",
       "      <th>HS852T</th>\n",
       "      <td>skin</td>\n",
       "      <td>na</td>\n",
       "    </tr>\n",
       "    <tr>\n",
       "      <th>HS695T</th>\n",
       "      <td>skin</td>\n",
       "      <td>na</td>\n",
       "    </tr>\n",
       "    <tr>\n",
       "      <th>A101D</th>\n",
       "      <td>skin</td>\n",
       "      <td>na</td>\n",
       "    </tr>\n",
       "  </tbody>\n",
       "</table>\n",
       "</div>"
      ],
      "text/plain": [
       "         Tissue  NA\n",
       "CellLine           \n",
       "CHL1       skin  na\n",
       "HMCB       skin  na\n",
       "HS852T     skin  na\n",
       "HS695T     skin  na\n",
       "A101D      skin  na"
      ]
     },
     "execution_count": 44,
     "metadata": {},
     "output_type": "execute_result"
    }
   ],
   "source": [
    "metadata.set_index('CellLine', inplace=True)\n",
    "metadata.head()"
   ]
  },
  {
   "cell_type": "code",
   "execution_count": 42,
   "metadata": {
    "collapsed": false
   },
   "outputs": [],
   "source": [
    "cancer_import.insert(2, 'Tissue', np.nan)"
   ]
  },
  {
   "cell_type": "code",
   "execution_count": 45,
   "metadata": {
    "collapsed": true
   },
   "outputs": [],
   "source": [
    "cancer_import.set_index('feature', inplace=True)\n",
    "for cell in cancer_import.index:\n",
    "    for comp in metadata.index:\n",
    "        if cell == comp:\n",
    "            cancer_import.ix[cell, 'Tissue'] = metadata.ix[comp, 'Tissue']"
   ]
  },
  {
   "cell_type": "code",
   "execution_count": 47,
   "metadata": {
    "collapsed": true
   },
   "outputs": [],
   "source": [
    "cancer_import.reset_index(inplace=True)"
   ]
  },
  {
   "cell_type": "code",
   "execution_count": 48,
   "metadata": {
    "collapsed": false
   },
   "outputs": [
    {
     "data": {
      "text/html": [
       "<div>\n",
       "<table border=\"1\" class=\"dataframe\">\n",
       "  <thead>\n",
       "    <tr style=\"text-align: right;\">\n",
       "      <th></th>\n",
       "      <th>feature</th>\n",
       "      <th>dataset</th>\n",
       "      <th>Tissue</th>\n",
       "      <th>feature_importance</th>\n",
       "    </tr>\n",
       "  </thead>\n",
       "  <tbody>\n",
       "    <tr>\n",
       "      <th>0</th>\n",
       "      <td>RKO</td>\n",
       "      <td>CCLE-GE</td>\n",
       "      <td>large intestine</td>\n",
       "      <td>0.006085</td>\n",
       "    </tr>\n",
       "    <tr>\n",
       "      <th>1</th>\n",
       "      <td>NCIH1915</td>\n",
       "      <td>CCLE-GE</td>\n",
       "      <td>lung</td>\n",
       "      <td>0.005406</td>\n",
       "    </tr>\n",
       "    <tr>\n",
       "      <th>2</th>\n",
       "      <td>ZR751</td>\n",
       "      <td>CCLE-GE</td>\n",
       "      <td>breast</td>\n",
       "      <td>0.005294</td>\n",
       "    </tr>\n",
       "    <tr>\n",
       "      <th>3</th>\n",
       "      <td>SH4</td>\n",
       "      <td>CCLE-GE</td>\n",
       "      <td>skin</td>\n",
       "      <td>0.005062</td>\n",
       "    </tr>\n",
       "    <tr>\n",
       "      <th>4</th>\n",
       "      <td>NCIH1563</td>\n",
       "      <td>CCLE-GE</td>\n",
       "      <td>lung</td>\n",
       "      <td>0.004854</td>\n",
       "    </tr>\n",
       "    <tr>\n",
       "      <th>5</th>\n",
       "      <td>SLR20</td>\n",
       "      <td>CCLE-GE</td>\n",
       "      <td>kidney</td>\n",
       "      <td>0.004844</td>\n",
       "    </tr>\n",
       "    <tr>\n",
       "      <th>6</th>\n",
       "      <td>SW1990</td>\n",
       "      <td>CCLE-GE</td>\n",
       "      <td>pancreas</td>\n",
       "      <td>0.004801</td>\n",
       "    </tr>\n",
       "    <tr>\n",
       "      <th>7</th>\n",
       "      <td>CORL105</td>\n",
       "      <td>CCLE-GE</td>\n",
       "      <td>lung</td>\n",
       "      <td>0.004672</td>\n",
       "    </tr>\n",
       "    <tr>\n",
       "      <th>8</th>\n",
       "      <td>NCIH838</td>\n",
       "      <td>CCLE-GE</td>\n",
       "      <td>lung</td>\n",
       "      <td>0.004668</td>\n",
       "    </tr>\n",
       "    <tr>\n",
       "      <th>9</th>\n",
       "      <td>SNU668</td>\n",
       "      <td>CCLE-GE</td>\n",
       "      <td>stomach</td>\n",
       "      <td>0.004526</td>\n",
       "    </tr>\n",
       "  </tbody>\n",
       "</table>\n",
       "</div>"
      ],
      "text/plain": [
       "    feature  dataset           Tissue  feature_importance\n",
       "0       RKO  CCLE-GE  large intestine            0.006085\n",
       "1  NCIH1915  CCLE-GE             lung            0.005406\n",
       "2     ZR751  CCLE-GE           breast            0.005294\n",
       "3       SH4  CCLE-GE             skin            0.005062\n",
       "4  NCIH1563  CCLE-GE             lung            0.004854\n",
       "5     SLR20  CCLE-GE           kidney            0.004844\n",
       "6    SW1990  CCLE-GE         pancreas            0.004801\n",
       "7   CORL105  CCLE-GE             lung            0.004672\n",
       "8   NCIH838  CCLE-GE             lung            0.004668\n",
       "9    SNU668  CCLE-GE          stomach            0.004526"
      ]
     },
     "execution_count": 48,
     "metadata": {},
     "output_type": "execute_result"
    }
   ],
   "source": [
    "cancer_import"
   ]
  }
 ],
 "metadata": {
  "anaconda-cloud": {},
  "kernelspec": {
   "display_name": "Python [conda env:py27]",
   "language": "python",
   "name": "conda-env-py27-py"
  },
  "language_info": {
   "codemirror_mode": {
    "name": "ipython",
    "version": 2
   },
   "file_extension": ".py",
   "mimetype": "text/x-python",
   "name": "python",
   "nbconvert_exporter": "python",
   "pygments_lexer": "ipython2",
   "version": "2.7.12"
  }
 },
 "nbformat": 4,
 "nbformat_minor": 0
}
